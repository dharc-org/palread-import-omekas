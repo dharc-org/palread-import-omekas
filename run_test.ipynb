{
 "cells": [
  {
   "cell_type": "code",
   "execution_count": 1,
   "metadata": {},
   "outputs": [],
   "source": [
    "import requests , json , os , sys\n",
    "from requests.adapters import HTTPAdapter\n",
    "from requests.packages.urllib3.util.retry import Retry\n",
    "import mapping.mapping as m\n",
    "import conf as c\n",
    "\n",
    "\n",
    "REQ_SESSION = requests.Session()\n",
    "retries = Retry(total=10, backoff_factor=1, status_forcelist=[ 502, 503, 504, 524 ])\n",
    "REQ_SESSION.mount('http://', HTTPAdapter(max_retries=retries))\n",
    "REQ_SESSION.mount('https://', HTTPAdapter(max_retries=retries))\n",
    "\n",
    "params = {\n",
    "    'key_identity': c.CONF[\"KEY_IDENTITY\"],\n",
    "    'key_credential': c.CONF[\"KEY_CREDENTIALS\"]\n",
    "}"
   ]
  },
  {
   "cell_type": "code",
   "execution_count": 2,
   "metadata": {},
   "outputs": [],
   "source": [
    "# 7. call properties, classes and resource templates APIs, store ids in dedicated json files, return dictionaries 'resource_classes','properties','resource_templates'\n",
    "#--- e.g. dict_ids[\"resource_classes\"] -> a dict of all the resource_classes in Omeka\n",
    "dict_ids = m.get_ids(c.CONF[\"OMEKA_API_URL\"],['resource_classes','properties','resource_templates'])"
   ]
  },
  {
   "cell_type": "code",
   "execution_count": 3,
   "metadata": {},
   "outputs": [],
   "source": [
    "# 8. open vocabularies.json\n",
    "with open(c.VOCABULARIES_INDEX) as json_file:\n",
    "    vocabularies_ids = json.load(json_file)"
   ]
  },
  {
   "cell_type": "code",
   "execution_count": null,
   "metadata": {},
   "outputs": [],
   "source": [
    "# 9, 10, 11. create the item-sets (in this case only 1 itemset called \"palread\") and get its id\n",
    "for itemset_val in c.ITEM_SETS:\n",
    "    itemset_id,payload = m.prepare_item_set(itemset_val, dict_ids[\"properties\"])\n",
    "    if itemset_id == \"none\":\n",
    "        response = REQ_SESSION.post('{}/item_sets/'.format(c.CONF[\"OMEKA_API_URL\"]), json=payload, params=params)\n",
    "        if response.status_code == 200:\n",
    "            omeka_res_data = response.json()\n",
    "            itemset_id = omeka_res_data['o:id']\n",
    "            ids_dict[itemset_val] = itemset_id\n",
    "            with open(c.ITEM_SETS_INDEX,\"w\") as itemsets_file:\n",
    "                itemsets_file.write(json.dumps(ids_dict))\n",
    "            itemsets_file.close()\n",
    "        else:\n",
    "            #an error occured STOP the process\n",
    "            sys.exit(\"Error while creating the Item-set!\")"
   ]
  },
  {
   "cell_type": "code",
   "execution_count": 4,
   "metadata": {},
   "outputs": [
    {
     "name": "stdout",
     "output_type": "stream",
     "text": [
      "resource_class, template_id, entity, item_set: wd:Q215627 16 person palread\n",
      "resource_class, template_id, entity, item_set: pr:LiteraryEvent None lit_event palread\n",
      "resource_class, template_id, entity, item_set: pr:LifeEvent None life_event palread\n",
      "resource_class, template_id, entity, item_set: wd:Q2085381 None publisher palread\n",
      "resource_class, template_id, entity, item_set: wd:Q43229 None organisation palread\n"
     ]
    }
   ],
   "source": [
    "# 12. query tables, create payloads, wherein substitute all properties IDs, classes and vocabularies IDs with the one mapped in the json files\n",
    "data = m.read_tables(dict_ids[\"properties\"],dict_ids[\"resource_classes\"],dict_ids[\"resource_templates\"],vocabularies_ids, \"create\")"
   ]
  },
  {
   "cell_type": "code",
   "execution_count": null,
   "metadata": {},
   "outputs": [],
   "source": [
    "# 13. iterate over payloads and upload\n",
    "for payload in data:\n",
    "    response = REQ_SESSION.post('{}/items/'.format(c.CONF[\"OMEKA_API_URL\"]), json=payload, params=params)\n",
    "\n",
    "# 14. dump data created in \"created_items.json\"\n",
    "dataset = REQ_SESSION.get('{}/items/'.format(c.CONF[\"OMEKA_API_URL\"]))\n",
    "m.backup_items(dataset.json(), dict_ids[\"resource_classes\"])\n",
    "\n",
    "# 15. lookup for certain tables/rows\n",
    "\n",
    "# 16. if entities do not exist, create them\n",
    "\n",
    "# 17. dump (overwrite) data created in \"created_items.json\"\n",
    "\n",
    "\n",
    "\n",
    "# 18. query again tables and create payloads\n",
    "# update_data = m.read_tables(\"item_sets_id.json\", \"update\")\n",
    "\n",
    "# 19. iterate over payloads and upload\n",
    "# for payload, resource_id in update_data:\n",
    "#     response = REQ_SESSION.patch('{}/items/{}'.format(c.CONF[\"OMEKA_API_URL\"],resource_id), json=payload, params=params)\n",
    "\n",
    "# 20. dump (overwrite) data created in \"created_items.json\"\n",
    "\n",
    "# 21. remove temporary properties (or not?)"
   ]
  },
  {
   "cell_type": "code",
   "execution_count": null,
   "metadata": {},
   "outputs": [],
   "source": []
  }
 ],
 "metadata": {
  "kernelspec": {
   "display_name": "Python 3",
   "language": "python",
   "name": "python3"
  },
  "language_info": {
   "codemirror_mode": {
    "name": "ipython",
    "version": 3
   },
   "file_extension": ".py",
   "mimetype": "text/x-python",
   "name": "python",
   "nbconvert_exporter": "python",
   "pygments_lexer": "ipython3",
   "version": "3.7.3"
  }
 },
 "nbformat": 4,
 "nbformat_minor": 2
}
