{
 "cells": [
  {
   "cell_type": "markdown",
   "metadata": {},
   "source": [
    "#### Guidelines: https://forum.omeka.org/t/example-api-usage-using-curl/8083\n",
    "\n",
    "**An example with \"curl\":**  \n",
    "```curl -H 'Content-type: application/json' --data-raw '{ \"dcterms:title\" : [ {\"property_id\": 1, \"property_label\" : \"Title\", \"@value\" : \"My snappy title\", \"type\" : \"literal\" } ], \"@type\" : \"o:Item\", \"o:item_set\" : [ {\"o:id\": 894}], \"o:media\" : [] }' -s 'https://example.org/api/items?key_identity=EXAMPLE_KEY&key_credential=EXAMPLE_CRED' |json_pp```\n"
   ]
  },
  {
   "cell_type": "code",
   "execution_count": 7,
   "metadata": {},
   "outputs": [],
   "source": [
    "# Imports\n",
    "import json\n",
    "import requests"
   ]
  },
  {
   "cell_type": "code",
   "execution_count": 17,
   "metadata": {},
   "outputs": [],
   "source": [
    "# Variables\n",
    "CONTENT_TYPE = \"application/json\"\n",
    "DATA = {}\n",
    "KEY_IDENTITY = None\n",
    "KEY_CREDENTIALS = None\n",
    "OMEKAS_ITEMS_API_URL = \"https://example.org/api/items\"\n",
    "ITEMS = [{\"1\":1},{\"2\":2}]"
   ]
  },
  {
   "cell_type": "code",
   "execution_count": 2,
   "metadata": {},
   "outputs": [],
   "source": [
    "# a POST request using the above variables\n",
    "# res contians all the POST results for each different item in ITEMS  \n",
    "res = {}\n",
    "for i,item in enumerate(ITEMS):\n",
    "    \n",
    "    #Request data\n",
    "    headers = {'Content-type': 'application/json'}\n",
    "    params = {\n",
    "        'key_identity': KEY_IDENTITY,\n",
    "        'key_credential': KEY_CREDENTIALS\n",
    "    }\n",
    "    data = json.JSONEncoder().encode(item)\n",
    "    \n",
    "    #POST request\n",
    "    res[i] = requests.post(OMEKAS_ITEMS_API_URL, headers=headers, params=params, data= data)"
   ]
  }
 ],
 "metadata": {
  "kernelspec": {
   "display_name": "Python 3",
   "language": "python",
   "name": "python3"
  },
  "language_info": {
   "codemirror_mode": {
    "name": "ipython",
    "version": 3
   },
   "file_extension": ".py",
   "mimetype": "text/x-python",
   "name": "python",
   "nbconvert_exporter": "python",
   "pygments_lexer": "ipython3",
   "version": "3.7.3"
  }
 },
 "nbformat": 4,
 "nbformat_minor": 2
}
